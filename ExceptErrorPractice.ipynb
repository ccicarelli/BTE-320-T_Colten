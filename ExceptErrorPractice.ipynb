{
  "nbformat": 4,
  "nbformat_minor": 0,
  "metadata": {
    "colab": {
      "provenance": [],
      "authorship_tag": "ABX9TyOW7lLjAubbGMaIwDkmeoX8",
      "include_colab_link": true
    },
    "kernelspec": {
      "name": "python3",
      "display_name": "Python 3"
    },
    "language_info": {
      "name": "python"
    }
  },
  "cells": [
    {
      "cell_type": "markdown",
      "metadata": {
        "id": "view-in-github",
        "colab_type": "text"
      },
      "source": [
        "<a href=\"https://colab.research.google.com/github/ccicarelli/BTE-320-T_Colten/blob/main/ExceptErrorPractice.ipynb\" target=\"_parent\"><img src=\"https://colab.research.google.com/assets/colab-badge.svg\" alt=\"Open In Colab\"/></a>"
      ]
    },
    {
      "cell_type": "code",
      "execution_count": 19,
      "metadata": {
        "colab": {
          "base_uri": "https://localhost:8080/"
        },
        "id": "ZjwMdCSc22pj",
        "outputId": "ca287f6e-08f8-43fb-f7b2-17316c13e2de"
      },
      "outputs": [
        {
          "output_type": "stream",
          "name": "stdout",
          "text": [
            "List must consist of at least one object\n"
          ]
        },
        {
          "output_type": "execute_result",
          "data": {
            "text/plain": [
              "nan"
            ]
          },
          "metadata": {},
          "execution_count": 19
        }
      ],
      "source": [
        "def avg(alist):\n",
        "  try:\n",
        "    return sum(alist) / len(alist)\n",
        "  except ValueError:\n",
        "    print('List must only consist of numbers')\n",
        "    return None\n",
        "  except TypeError:\n",
        "    print('List must only consist of numbers')\n",
        "    return None\n",
        "  except ZeroDivisionError:\n",
        "    print('List must consist of at least one object')\n",
        "    return float('nan')\n",
        "  except:\n",
        "    print('Unknown Error has Occurred')\n",
        "    return None\n",
        "\n",
        "\n",
        "\n",
        "alist = [1, 3.5, 5, 17, 9]\n",
        "blist = []\n",
        "clist = [1, 3, 5, 'abc', 9]\n",
        "dlist = 4\n",
        "\n",
        "avg(blist)"
      ]
    },
    {
      "cell_type": "code",
      "source": [
        "def avg(alist):\n",
        "  return sum(alist) / len(alist)\n",
        "\n",
        "alist = [-1, -3.5, -5, 17, -9]\n",
        "blist = []\n",
        "clist = 4\n",
        "avg(alist)\n",
        "\n"
      ],
      "metadata": {
        "colab": {
          "base_uri": "https://localhost:8080/"
        },
        "id": "t_gfyBGx47GD",
        "outputId": "33c3a120-2f54-40c3-a108-9705c37d17c6"
      },
      "execution_count": 18,
      "outputs": [
        {
          "output_type": "execute_result",
          "data": {
            "text/plain": [
              "-0.3"
            ]
          },
          "metadata": {},
          "execution_count": 18
        }
      ]
    }
  ]
}