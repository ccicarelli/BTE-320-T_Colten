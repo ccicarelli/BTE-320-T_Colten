{
  "nbformat": 4,
  "nbformat_minor": 0,
  "metadata": {
    "colab": {
      "provenance": [],
      "authorship_tag": "ABX9TyMCmIxhTpCv+NaAy3LkX+vF",
      "include_colab_link": true
    },
    "kernelspec": {
      "name": "python3",
      "display_name": "Python 3"
    },
    "language_info": {
      "name": "python"
    }
  },
  "cells": [
    {
      "cell_type": "markdown",
      "metadata": {
        "id": "view-in-github",
        "colab_type": "text"
      },
      "source": [
        "<a href=\"https://colab.research.google.com/github/ccicarelli/BTE-320-T_Colten/blob/main/DepositInterestAssignment.ipynb\" target=\"_parent\"><img src=\"https://colab.research.google.com/assets/colab-badge.svg\" alt=\"Open In Colab\"/></a>"
      ]
    },
    {
      "cell_type": "code",
      "execution_count": 1,
      "metadata": {
        "colab": {
          "base_uri": "https://localhost:8080/"
        },
        "id": "M34S3lb5EAE2",
        "outputId": "8aed9ab7-fc2a-4548-fbf2-5a0f3852fe8a"
      },
      "outputs": [
        {
          "output_type": "stream",
          "name": "stdout",
          "text": [
            "Enter customer type (n: new, e: existing): e\n",
            "Enter your deposit amount: $6500\n",
            "The total amount after applying interest rate: $6711.25\n"
          ]
        }
      ],
      "source": [
        "customer_type = input('Enter customer type (n: new, e: existing): ')\n",
        "deposit = float(input('Enter your deposit amount: $'))\n",
        "\n",
        "if customer_type == 'e':\n",
        "  if deposit > 10000:\n",
        "    rate = 3.5\n",
        "  elif deposit > 1000:\n",
        "    rate = 3.25\n",
        "  else:\n",
        "    rate = 3\n",
        "else:\n",
        "  rate = 3\n",
        "\n",
        "total = (1 + rate/100) * deposit\n",
        "print(f'The total amount after applying interest rate: ${round(total, 2)}')"
      ]
    }
  ]
}