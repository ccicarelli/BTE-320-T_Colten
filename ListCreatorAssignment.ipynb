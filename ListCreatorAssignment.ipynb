{
  "nbformat": 4,
  "nbformat_minor": 0,
  "metadata": {
    "colab": {
      "provenance": [],
      "authorship_tag": "ABX9TyOJIx3VFQ6xuLkTwkkQm+kT",
      "include_colab_link": true
    },
    "kernelspec": {
      "name": "python3",
      "display_name": "Python 3"
    },
    "language_info": {
      "name": "python"
    }
  },
  "cells": [
    {
      "cell_type": "markdown",
      "metadata": {
        "id": "view-in-github",
        "colab_type": "text"
      },
      "source": [
        "<a href=\"https://colab.research.google.com/github/ccicarelli/BTE-320-T_Colten/blob/main/ListCreatorAssignment.ipynb\" target=\"_parent\"><img src=\"https://colab.research.google.com/assets/colab-badge.svg\" alt=\"Open In Colab\"/></a>"
      ]
    },
    {
      "cell_type": "code",
      "execution_count": 1,
      "metadata": {
        "colab": {
          "base_uri": "https://localhost:8080/"
        },
        "id": "eN0rSTdw0Ne9",
        "outputId": "2d219483-65ad-4f8b-9908-8a73567b935f"
      },
      "outputs": [
        {
          "output_type": "stream",
          "name": "stdout",
          "text": [
            "Enter an integer to append to the list: 1\n",
            "Here is your current list : [1]\n",
            "Enter an integer to append to the list: 2\n",
            "Here is your current list : [1, 2]\n",
            "Enter an integer to append to the list: 3\n",
            "Here is your current list : [1, 2, 3]\n",
            "Enter an integer to append to the list: 4\n",
            "Here is your current list : [1, 2, 3, 4]\n",
            "Enter an integer to append to the list: 5\n",
            "Here is your current list : [1, 2, 3, 4, 5]\n",
            "Enter an integer to append to the list: 6\n",
            "Here is your current list : [1, 2, 3, 4, 5, 6]\n",
            "Enter an integer to append to the list: 7\n",
            "Here is your current list : [1, 2, 3, 4, 5, 6, 7]\n",
            "Enter an integer to append to the list: 8\n",
            "Here is your current list : [1, 2, 3, 4, 5, 6, 7, 8]\n",
            "Enter an integer to append to the list: 9\n",
            "Here is your current list : [1, 2, 3, 4, 5, 6, 7, 8, 9]\n",
            "Enter an integer to append to the list: 0\n",
            "Here is your list : [1, 2, 3, 4, 5, 6, 7, 8, 9]\n"
          ]
        }
      ],
      "source": [
        "L = []\n",
        "while True:\n",
        "  userinput = int(input('Enter an integer to append to the list: '))\n",
        "  if userinput == 0:\n",
        "    break\n",
        "  L.append(userinput)\n",
        "  print(f'Here is your current list : {L}')\n",
        "\n",
        "print(f'Here is your list : {L}')"
      ]
    }
  ]
}