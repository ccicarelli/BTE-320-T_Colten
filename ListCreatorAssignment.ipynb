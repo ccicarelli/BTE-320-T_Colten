{
  "nbformat": 4,
  "nbformat_minor": 0,
  "metadata": {
    "colab": {
      "provenance": [],
      "authorship_tag": "ABX9TyPilDkXw9DnZ5Xkfp/xSZmo",
      "include_colab_link": true
    },
    "kernelspec": {
      "name": "python3",
      "display_name": "Python 3"
    },
    "language_info": {
      "name": "python"
    }
  },
  "cells": [
    {
      "cell_type": "markdown",
      "metadata": {
        "id": "view-in-github",
        "colab_type": "text"
      },
      "source": [
        "<a href=\"https://colab.research.google.com/github/ccicarelli/BTE-320-T_Colten/blob/main/ListCreatorAssignment.ipynb\" target=\"_parent\"><img src=\"https://colab.research.google.com/assets/colab-badge.svg\" alt=\"Open In Colab\"/></a>"
      ]
    },
    {
      "cell_type": "code",
      "execution_count": 1,
      "metadata": {
        "colab": {
          "base_uri": "https://localhost:8080/"
        },
        "id": "eN0rSTdw0Ne9",
        "outputId": "658dcb13-04be-4a44-c81e-c58d7b5aa6a7"
      },
      "outputs": [
        {
          "output_type": "stream",
          "name": "stdout",
          "text": [
            "Enter a value: 1\n",
            "Enter a Value: 2\n",
            "Enter a Value: 3\n",
            "Enter a Value: 4\n",
            "Enter a Value: 5\n",
            "Enter a Value: 6\n",
            "Enter a Value: 7\n",
            "Enter a Value: 0\n",
            "[1, 2, 3, 4, 5, 6, 7]\n"
          ]
        }
      ],
      "source": [
        "L = []\n",
        "number = int(input('Enter a value: '))\n",
        "\n",
        "while number != 0:\n",
        "  L.append(number)\n",
        "  number = int(input('Enter a Value: '))\n",
        "print(L)"
      ]
    }
  ]
}