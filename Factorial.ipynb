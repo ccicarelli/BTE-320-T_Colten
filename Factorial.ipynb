{
  "nbformat": 4,
  "nbformat_minor": 0,
  "metadata": {
    "colab": {
      "provenance": [],
      "authorship_tag": "ABX9TyN6iaNOF33SR88sgl6+NeZA",
      "include_colab_link": true
    },
    "kernelspec": {
      "name": "python3",
      "display_name": "Python 3"
    },
    "language_info": {
      "name": "python"
    }
  },
  "cells": [
    {
      "cell_type": "markdown",
      "metadata": {
        "id": "view-in-github",
        "colab_type": "text"
      },
      "source": [
        "<a href=\"https://colab.research.google.com/github/ccicarelli/BTE-320-T_Colten/blob/main/Factorial.ipynb\" target=\"_parent\"><img src=\"https://colab.research.google.com/assets/colab-badge.svg\" alt=\"Open In Colab\"/></a>"
      ]
    },
    {
      "cell_type": "code",
      "execution_count": null,
      "metadata": {
        "id": "S0Hq8OKOzvgf"
      },
      "outputs": [],
      "source": [
        "def recursive_summanation(n):\n",
        "  if n == 0:\n",
        "    return 0\n",
        "  else:\n",
        "    return n + recursive_summanation(n-1)\n",
        "\n",
        "\n",
        "recursive_summanation(int(input('Enter an Integer: '))"
      ]
    },
    {
      "cell_type": "code",
      "source": [
        "def factorial(n):\n",
        "  if n < 0:\n",
        "    print('Enter a Positive Integer')\n",
        "  elif n == 0:\n",
        "    return 1\n",
        "  else:\n",
        "    return n * factorial((n - 1))\n",
        "\n",
        "factorial(int(input('Enter a Positive Integer: ')))"
      ],
      "metadata": {
        "colab": {
          "base_uri": "https://localhost:8080/"
        },
        "id": "m9lj09dj0J0R",
        "outputId": "29743ab9-375a-484f-bb54-8fd544642e16"
      },
      "execution_count": 7,
      "outputs": [
        {
          "name": "stdout",
          "output_type": "stream",
          "text": [
            "Enter a Positive Integer: 6\n"
          ]
        },
        {
          "output_type": "execute_result",
          "data": {
            "text/plain": [
              "720"
            ]
          },
          "metadata": {},
          "execution_count": 7
        }
      ]
    },
    {
      "cell_type": "code",
      "source": [
        "def fibbon(n):\n",
        "  if n == 0 or n == 1:\n",
        "    return 1\n",
        "  else:\n",
        "    return fibbon(n - 1) + fibbon(n - 2)\n",
        "\n",
        "for i in range(9):\n",
        "  print(fibbon(i), end=' ')"
      ],
      "metadata": {
        "colab": {
          "base_uri": "https://localhost:8080/"
        },
        "id": "Ta2MtV9M3K3p",
        "outputId": "631169c6-a3c1-455d-f7c8-42aeccea3717"
      },
      "execution_count": 11,
      "outputs": [
        {
          "output_type": "stream",
          "name": "stdout",
          "text": [
            "1 1 2 3 5 8 13 21 34 "
          ]
        }
      ]
    }
  ]
}