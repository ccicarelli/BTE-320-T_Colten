{
  "nbformat": 4,
  "nbformat_minor": 0,
  "metadata": {
    "colab": {
      "provenance": [],
      "authorship_tag": "ABX9TyPk6WwpqubKtvLQ3qttarkT",
      "include_colab_link": true
    },
    "kernelspec": {
      "name": "python3",
      "display_name": "Python 3"
    },
    "language_info": {
      "name": "python"
    }
  },
  "cells": [
    {
      "cell_type": "markdown",
      "metadata": {
        "id": "view-in-github",
        "colab_type": "text"
      },
      "source": [
        "<a href=\"https://colab.research.google.com/github/ccicarelli/BTE-320-T_Colten/blob/main/MovieTheaterAssignment.ipynb\" target=\"_parent\"><img src=\"https://colab.research.google.com/assets/colab-badge.svg\" alt=\"Open In Colab\"/></a>"
      ]
    },
    {
      "cell_type": "code",
      "execution_count": 2,
      "metadata": {
        "colab": {
          "base_uri": "https://localhost:8080/"
        },
        "id": "lHszPVPwMA3P",
        "outputId": "53d3853b-2a07-453a-f715-edf8479aea0d"
      },
      "outputs": [
        {
          "output_type": "stream",
          "name": "stdout",
          "text": [
            "Ad$ Profit\n",
            "0.0 $0.0\n",
            "25.0 $75.0\n",
            "50.0 $90.0\n",
            "75.0 $105.0\n",
            "100.0 $100.0\n",
            "125.0 $95.0\n",
            "150.0 $90.0\n",
            "175.0 $85.0\n",
            "200.0 $80.0\n"
          ]
        }
      ],
      "source": [
        "print(f'Ad$ Profit')\n",
        "\n",
        "init_attendees = 20\n",
        "fixed_cost = 200\n",
        "\n",
        "for advertising in range(0, 201, 25):\n",
        "  ad = float(advertising)\n",
        "  attendees = float(2*round(advertising**0.5) + init_attendees)\n",
        "  profit = float((attendees * 10) - advertising - fixed_cost)\n",
        "  print(f'{ad} ${profit}')"
      ]
    }
  ]
}