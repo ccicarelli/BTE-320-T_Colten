{
  "nbformat": 4,
  "nbformat_minor": 0,
  "metadata": {
    "colab": {
      "provenance": [],
      "authorship_tag": "ABX9TyPix1Wx/O1rvhFiiMNtHCnn",
      "include_colab_link": true
    },
    "kernelspec": {
      "name": "python3",
      "display_name": "Python 3"
    },
    "language_info": {
      "name": "python"
    }
  },
  "cells": [
    {
      "cell_type": "markdown",
      "metadata": {
        "id": "view-in-github",
        "colab_type": "text"
      },
      "source": [
        "<a href=\"https://colab.research.google.com/github/ccicarelli/BTE-320-T_Colten/blob/main/MorgageClass.ipynb\" target=\"_parent\"><img src=\"https://colab.research.google.com/assets/colab-badge.svg\" alt=\"Open In Colab\"/></a>"
      ]
    },
    {
      "cell_type": "code",
      "execution_count": 37,
      "metadata": {
        "id": "g0DlvbjoI9rh"
      },
      "outputs": [],
      "source": [
        "class Morgage:\n",
        "  def __init__(self, principle, time, rate):\n",
        "    self.principle = principle\n",
        "    self.time = time\n",
        "    self.rate = rate\n",
        "\n",
        "  def get_interest(self):\n",
        "    return self.rate\n",
        "\n",
        "  def set_interest(self, newInterest):\n",
        "    if newInterest >= 0:\n",
        "      self.interest = newInterest\n",
        "    else:\n",
        "      print('Please enter a positive interest rate.')\n",
        "\n",
        "\n",
        "  def MonthlyPayment(self):\n",
        "    r = (self.rate/100/12)\n",
        "    n = (self.time*12)\n",
        "    pmt = self.principle*(r*((1+r)**n)/(((1+r)**n)-1))\n",
        "    print(f'The Monthly Payment for the Morgage is ${round(pmt, ndigits=2)}')"
      ]
    },
    {
      "cell_type": "code",
      "source": [
        "m = Morgage(100000, 30, 6)\n",
        "\n",
        "m.MonthlyPayment()"
      ],
      "metadata": {
        "colab": {
          "base_uri": "https://localhost:8080/"
        },
        "id": "lvi0OUY1KZtu",
        "outputId": "61411cf4-affb-4e3a-e016-be394ebdc9fc"
      },
      "execution_count": 38,
      "outputs": [
        {
          "output_type": "stream",
          "name": "stdout",
          "text": [
            "The Monthly Payment for the Morgage is $599.55\n"
          ]
        }
      ]
    },
    {
      "cell_type": "code",
      "source": [
        "m.get_interest()"
      ],
      "metadata": {
        "colab": {
          "base_uri": "https://localhost:8080/"
        },
        "id": "EK1dPA4qOsFa",
        "outputId": "4a947d38-166a-4e68-9481-d2ea40547c06"
      },
      "execution_count": 36,
      "outputs": [
        {
          "output_type": "execute_result",
          "data": {
            "text/plain": [
              "6"
            ]
          },
          "metadata": {},
          "execution_count": 36
        }
      ]
    }
  ]
}