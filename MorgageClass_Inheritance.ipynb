{
  "nbformat": 4,
  "nbformat_minor": 0,
  "metadata": {
    "colab": {
      "provenance": [],
      "authorship_tag": "ABX9TyMqkyNZwuLfQEv+tFFl6hXz",
      "include_colab_link": true
    },
    "kernelspec": {
      "name": "python3",
      "display_name": "Python 3"
    },
    "language_info": {
      "name": "python"
    }
  },
  "cells": [
    {
      "cell_type": "markdown",
      "metadata": {
        "id": "view-in-github",
        "colab_type": "text"
      },
      "source": [
        "<a href=\"https://colab.research.google.com/github/ccicarelli/BTE-320-T_Colten/blob/main/MorgageClass_Inheritance.ipynb\" target=\"_parent\"><img src=\"https://colab.research.google.com/assets/colab-badge.svg\" alt=\"Open In Colab\"/></a>"
      ]
    },
    {
      "cell_type": "code",
      "execution_count": 18,
      "metadata": {
        "id": "VKl0amvn6rpA"
      },
      "outputs": [],
      "source": [
        "class Morgage:\n",
        "  def __init__(self, principle, time, rate):\n",
        "    self.principle = principle\n",
        "    self.time = time\n",
        "    self.__rate = rate\n",
        "\n",
        "  def __str__(self):\n",
        "    print(f'Morgage Info:\\n Intitial Loan Amount: ${self.principle}\\n Maturity Term: {self.time} years\\n Interest Rate: {self.__rate}%')\n",
        "\n",
        "  def get_interest(self):\n",
        "    return self.__rate\n",
        "\n",
        "  def set_interest(self, newInterest):\n",
        "    if newInterest >= 0:\n",
        "      self.__interest = newInterest\n",
        "    else:\n",
        "      print('Please enter a positive interest rate.')\n",
        "\n",
        "\n",
        "  def MonthlyPayment(self):\n",
        "    r = (self.__rate/100/12)\n",
        "    n = (self.time*12)\n",
        "    pmt = self.principle*(r*((1+r)**n)/(((1+r)**n)-1))\n",
        "    print(f'The Monthly Payment for the Morgage is ${round(pmt, ndigits=2)}')"
      ]
    },
    {
      "cell_type": "code",
      "source": [
        "m = Morgage(100000, 30, 6)\n",
        "\n",
        "m.__str__()"
      ],
      "metadata": {
        "colab": {
          "base_uri": "https://localhost:8080/"
        },
        "id": "xh0SkC9f6zbH",
        "outputId": "90516e47-53dc-43e2-fac5-1f235a87f6e8"
      },
      "execution_count": 19,
      "outputs": [
        {
          "output_type": "stream",
          "name": "stdout",
          "text": [
            "Morgage Info:\n",
            " Intitial Loan Amount: $100000\n",
            " Maturity Term: 30 years\n",
            " Interest Rate: 6%\n"
          ]
        }
      ]
    },
    {
      "cell_type": "code",
      "source": [
        "class A:\n",
        "  def __init__(self, item):\n",
        "    self.item = item\n",
        "  def whoAmI(self):\n",
        "    print('I am an instance of class A')\n",
        "\n",
        "class B:\n",
        "  def __init__(self, item):\n",
        "    self.item = item\n",
        "  def whoAmI(self):\n",
        "    print('I am an instance of class B')\n",
        "\n",
        "a = A(2)\n",
        "b = B(3)"
      ],
      "metadata": {
        "id": "Y1fNkI9F_Mr2"
      },
      "execution_count": 20,
      "outputs": []
    },
    {
      "cell_type": "code",
      "source": [
        "a.whoAmI()"
      ],
      "metadata": {
        "colab": {
          "base_uri": "https://localhost:8080/"
        },
        "id": "sawgB8LM_lQs",
        "outputId": "db5ad850-658c-40b8-99c8-893773740935"
      },
      "execution_count": 21,
      "outputs": [
        {
          "output_type": "stream",
          "name": "stdout",
          "text": [
            "I am an instance of class A\n"
          ]
        }
      ]
    },
    {
      "cell_type": "code",
      "source": [
        "class Animal:\n",
        "  def __init__(self):\n",
        "    print('Animal Created')\n",
        "\n",
        "  def whoAmI(self):\n",
        "    print('I am an animal')"
      ],
      "metadata": {
        "id": "Is24upqDAYr5"
      },
      "execution_count": 22,
      "outputs": []
    },
    {
      "cell_type": "code",
      "source": [
        "class Bird(Animal):\n",
        "  def fly(self):\n",
        "    print('Birds can fly')"
      ],
      "metadata": {
        "id": "nMUHRhQlArqg"
      },
      "execution_count": 23,
      "outputs": []
    },
    {
      "cell_type": "code",
      "source": [
        "b = Bird()\n",
        "\n",
        "b.whoAmI()\n",
        "b.fly()"
      ],
      "metadata": {
        "colab": {
          "base_uri": "https://localhost:8080/"
        },
        "id": "-cV2ZGVKBHvm",
        "outputId": "37238994-8867-46e2-8a6e-110916756f6b"
      },
      "execution_count": 24,
      "outputs": [
        {
          "output_type": "stream",
          "name": "stdout",
          "text": [
            "Animal Created\n",
            "I am an animal\n",
            "Birds can fly\n"
          ]
        }
      ]
    },
    {
      "cell_type": "code",
      "source": [],
      "metadata": {
        "id": "LtaMcBn_B1IT"
      },
      "execution_count": null,
      "outputs": []
    }
  ]
}