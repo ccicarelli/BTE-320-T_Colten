{
  "nbformat": 4,
  "nbformat_minor": 0,
  "metadata": {
    "colab": {
      "provenance": [],
      "authorship_tag": "ABX9TyNZ0Hu6Nllkwa5XJnWx2wqH",
      "include_colab_link": true
    },
    "kernelspec": {
      "name": "python3",
      "display_name": "Python 3"
    },
    "language_info": {
      "name": "python"
    }
  },
  "cells": [
    {
      "cell_type": "markdown",
      "metadata": {
        "id": "view-in-github",
        "colab_type": "text"
      },
      "source": [
        "<a href=\"https://colab.research.google.com/github/ccicarelli/BTE-320-T_Colten/blob/main/ParkingGarageAssignment.ipynb\" target=\"_parent\"><img src=\"https://colab.research.google.com/assets/colab-badge.svg\" alt=\"Open In Colab\"/></a>"
      ]
    },
    {
      "cell_type": "code",
      "execution_count": 1,
      "metadata": {
        "colab": {
          "base_uri": "https://localhost:8080/"
        },
        "id": "w0mTcMPmyfeV",
        "outputId": "22c9e1aa-3db8-40b2-d6bd-4011b3fe3795"
      },
      "outputs": [
        {
          "output_type": "stream",
          "name": "stdout",
          "text": [
            "1 hour costs $7.5\n",
            "2 hour costs $10.0\n",
            "3 hour costs $12.5\n",
            "4 hour costs $15.0\n",
            "5 hour costs $17.5\n",
            "6 hour costs $20.0\n",
            "7 hour costs $22.5\n",
            "8 hour costs $25.0\n"
          ]
        }
      ],
      "source": [
        "for i in range (1,9):\n",
        "  print(f'{i} hour costs ${5+2.5*i}')"
      ]
    }
  ]
}